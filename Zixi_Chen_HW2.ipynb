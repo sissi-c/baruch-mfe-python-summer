{
 "cells": [
  {
   "cell_type": "markdown",
   "metadata": {},
   "source": [
    "## Merge Sorted Stream"
   ]
  },
  {
   "cell_type": "markdown",
   "metadata": {},
   "source": [
    "Write a generator function that takes two sorted streams (generators), and return a generator that can produce a merged stream in sorted order.  \n",
    "Bonus point: can you make it generic such that it can merge any number of streams?"
   ]
  },
  {
   "cell_type": "code",
   "execution_count": 42,
   "metadata": {},
   "outputs": [
    {
     "name": "stdout",
     "output_type": "stream",
     "text": [
      "0\n",
      "1\n",
      "2\n",
      "2\n",
      "3\n",
      "4\n",
      "4\n",
      "5\n",
      "6\n",
      "6\n",
      "7\n",
      "8\n",
      "8\n",
      "9\n"
     ]
    }
   ],
   "source": [
    "def merge_sorted_stream(stream1, *args):       # merge any number of streams\n",
    "    stream = list(stream1)              # change the range class into list\n",
    "    for arg in args:\n",
    "        stream += list(arg)             # if append, list(stream2) as one element. extend also works\n",
    "    stream.sort()\n",
    "    for x in stream:\n",
    "        yield x\n",
    "\n",
    "stream1 = range(0, 10, 2)\n",
    "stream2 = range(1, 10, 2)\n",
    "stream3 = range(2, 10, 2)\n",
    "\n",
    "for x in merge_sorted_stream(stream1, stream2, stream3):\n",
    "    print(x)"
   ]
  },
  {
   "cell_type": "markdown",
   "metadata": {},
   "source": [
    "## Tree Traversal"
   ]
  },
  {
   "cell_type": "markdown",
   "metadata": {},
   "source": [
    "Define a Tree class with a method that can walk through the tree in different orders. Hint: use generator will make your life a lot easier.  \n",
    "```\n",
    "      1\n",
    "    /  \\ \n",
    "   2    3\n",
    "  / \\\n",
    " 4   5\n",
    "```\n",
    "\n",
    "Depth First Traversals: \n",
    "  * (a) Inorder (Left, Root, Right) : 4 2 5 1 3\n",
    "  * (b) Preorder (Root, Left, Right) : 1 2 4 5 3\n",
    "  * (c) Postorder (Left, Right, Root) : 4 5 2 3 1"
   ]
  },
  {
   "cell_type": "code",
   "execution_count": 97,
   "metadata": {},
   "outputs": [
    {
     "name": "stdout",
     "output_type": "stream",
     "text": [
      "4 -> 2 -> 5 -> 1 -> 3\n",
      "1 -> 2 -> 4 -> 5 -> 3\n",
      "4 -> 5 -> 2 -> 3 -> 1\n"
     ]
    }
   ],
   "source": [
    "class TreeNode:\n",
    "    \n",
    "    def __init__(self, value):\n",
    "        self.left = None\n",
    "        self.right = None\n",
    "        self.value = value\n",
    "\n",
    "    def in_order(self):                    # recursion\n",
    "        if self.left:                      # self is not none for sure, check if self.left is none\n",
    "            yield from self.left.in_order()           # in-class function called by self.left, with yield\n",
    "        yield str(self.value)\n",
    "        if self.right:\n",
    "            yield from self.right.in_order()\n",
    "        \n",
    "    def pre_order(self):\n",
    "        yield str(self.value)\n",
    "        if self.left:                      \n",
    "            yield from self.left.pre_order()          \n",
    "        if self.right:\n",
    "            yield from self.right.pre_order()\n",
    "        \n",
    "    def post_order(self):\n",
    "        if self.left:                      \n",
    "            yield from self.left.post_order()          \n",
    "        if self.right:\n",
    "            yield from self.right.post_order()\n",
    "        yield str(self.value)\n",
    "    \n",
    "root = TreeNode(1)\n",
    "root.left = TreeNode(2)\n",
    "root.right = TreeNode(3)\n",
    "root.left.left = TreeNode(4)\n",
    "root.left.right = TreeNode(5)\n",
    "\n",
    "print(' -> '.join(item for item in root.in_order()))      # item in 'join' must be str\n",
    "print(' -> '.join(item for item in root.pre_order()))\n",
    "print(' -> '.join(item for item in root.post_order()))"
   ]
  },
  {
   "cell_type": "markdown",
   "metadata": {},
   "source": [
    "## Implement a timer"
   ]
  },
  {
   "cell_type": "markdown",
   "metadata": {},
   "source": [
    "Implement a timer that can print the execution time of your code. Try to implement it both as a decorator and as a context manager to compare the implementations. Can you implement it using one single class? "
   ]
  },
  {
   "cell_type": "code",
   "execution_count": 149,
   "metadata": {},
   "outputs": [],
   "source": [
    "import time\n",
    "\n",
    "class timer:\n",
    "    \n",
    "    def __init__(self, func = None):\n",
    "        self.func = func\n",
    "        self.time = time.time()\n",
    "        \n",
    "    def __call__(self, *args, **kwargs):                            # make instance callable, receive arguments\n",
    "        self.time = time.time()\n",
    "        self.func(*args, **kwargs)\n",
    "        print(f\"--- {time.time() - self.time} seconds ---\")\n",
    "    \n",
    "    def __enter__(self):\n",
    "        self.time = time.time()\n",
    "        return self\n",
    "    \n",
    "    def __exit__(self, type, value, tb):\n",
    "        print(f\"--- {time.time() - self.time} seconds ---\")\n",
    "    "
   ]
  },
  {
   "cell_type": "code",
   "execution_count": 147,
   "metadata": {},
   "outputs": [
    {
     "name": "stdout",
     "output_type": "stream",
     "text": [
      "--- 3.0003695487976074 seconds ---\n"
     ]
    }
   ],
   "source": [
    "@timer\n",
    "def sleep(secs):\n",
    "    time.sleep(secs)\n",
    "    \n",
    "sleep(3)"
   ]
  },
  {
   "cell_type": "code",
   "execution_count": 143,
   "metadata": {},
   "outputs": [
    {
     "name": "stdout",
     "output_type": "stream",
     "text": [
      "--- 3.0000319480895996 seconds ---\n"
     ]
    }
   ],
   "source": [
    "import time\n",
    "\n",
    "with timer() as timer:\n",
    "    time.sleep(3)"
   ]
  },
  {
   "cell_type": "code",
   "execution_count": null,
   "metadata": {},
   "outputs": [],
   "source": []
  }
 ],
 "metadata": {
  "kernelspec": {
   "display_name": "Python 3",
   "language": "python",
   "name": "python3"
  },
  "language_info": {
   "codemirror_mode": {
    "name": "ipython",
    "version": 3
   },
   "file_extension": ".py",
   "mimetype": "text/x-python",
   "name": "python",
   "nbconvert_exporter": "python",
   "pygments_lexer": "ipython3",
   "version": "3.7.0"
  }
 },
 "nbformat": 4,
 "nbformat_minor": 2
}
