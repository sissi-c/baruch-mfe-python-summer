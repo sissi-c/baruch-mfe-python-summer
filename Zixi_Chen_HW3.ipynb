{
 "cells": [
  {
   "cell_type": "markdown",
   "metadata": {},
   "source": [
    "1. Read the code below and rewrite it using only numpy functions (without for loop,\n",
    "if-else statements). Benchmark your implementation. How much is it faster than\n",
    "the naive python implementation? (hint: use np.isin)"
   ]
  },
  {
   "cell_type": "code",
   "execution_count": 197,
   "metadata": {},
   "outputs": [
    {
     "name": "stdout",
     "output_type": "stream",
     "text": [
      "Wall time: 215 ms\n"
     ]
    }
   ],
   "source": [
    "%%time\n",
    "\n",
    "def func1(names, db):\n",
    "    idx = []\n",
    "    for i in names:\n",
    "        if i in db:\n",
    "            idx.append(db.index(i))         # check if i is included in db, find the relative sequence of i\n",
    "    return idx\n",
    "\n",
    "names = ['sad','glad','happy']\n",
    "db = ['happy','happy','sad']\n",
    "for i in range(100000):\n",
    "    func1(names, db)"
   ]
  },
  {
   "cell_type": "code",
   "execution_count": 196,
   "metadata": {},
   "outputs": [
    {
     "name": "stdout",
     "output_type": "stream",
     "text": [
      "Wall time: 3.8 s\n"
     ]
    }
   ],
   "source": [
    "%%time\n",
    "\n",
    "import numpy as np\n",
    "def func2(names, db):\n",
    "    return np.arange(len(names))[np.isin(names,db)]\n",
    "    \n",
    "names = ['sad','glad','happy']\n",
    "db = ['happy','happy']\n",
    "for i in range(100000):\n",
    "    func2(names , db)"
   ]
  },
  {
   "cell_type": "markdown",
   "metadata": {},
   "source": [
    "2. Use only numpy functions (without for loop, if-else statements) to find the largest N distances between points if either points is inside the circle of raidus r0. Then return the coordinates of these points. "
   ]
  },
  {
   "cell_type": "code",
   "execution_count": 187,
   "metadata": {},
   "outputs": [],
   "source": [
    "def FindNLargest(Xs, Ys, N, r0):\n",
    "    assert Xs.shape[0]==Ys.shape[0], \"X and Y should have the same length\"\n",
    "    \n",
    "    def FilterCircle(X, Y, r): #Filter out the points outside the circle\n",
    "        rs=(X**2+Y**2)**0.5     # element-wise\n",
    "        return X[np.where(rs<r)], Y[np.where(rs<r)]    \n",
    "    #return FilterCircle(Xs, Ys, r0)\n",
    "    \n",
    "    X_in ,Y_in = FilterCircle(Xs, Ys, r0)\n",
    "    n = X_in.shape[0]\n",
    "    combination_index=np.tril_indices(n , -1)  #a combination of points\n",
    "    \n",
    "    def DiffOfEachTwoElements(M): #calculate difference between each two elements in array X\n",
    "        return np.subtract.outer(M, M)[np.tril_indices(M.shape[0],-1)]   # []only need the lower triangle\n",
    "    \n",
    "    dist_square=DiffOfEachTwoElements(X_in)**2+DiffOfEachTwoElements(Y_in)**2\n",
    "    #return dist_square\n",
    "    if dist_square.shape[0]<=N:\n",
    "        return np.stack([X_in,Y_in])[:,np.stack(combination_index)].T  #return two points for each distance\n",
    "    \n",
    "    index=np.argpartition(dist_square,-N)[-N:] #calculate the index of largest N distances\n",
    "    return np.stack([X_in,Y_in])[:,np.stack(combination_index)[:,index]].T"
   ]
  },
  {
   "cell_type": "code",
   "execution_count": 194,
   "metadata": {},
   "outputs": [
    {
     "data": {
      "text/plain": [
       "array([[[1, 1],\n",
       "        [1, 4]],\n",
       "\n",
       "       [[1, 4],\n",
       "        [2, 1]]])"
      ]
     },
     "execution_count": 194,
     "metadata": {},
     "output_type": "execute_result"
    }
   ],
   "source": [
    "Xs = np.array([2,1,1,6])\n",
    "Ys = np.array([1,4,1,6])\n",
    "FindNLargest(Xs, Ys, 2, 6)"
   ]
  }
 ],
 "metadata": {
  "kernelspec": {
   "display_name": "Python 3",
   "language": "python",
   "name": "python3"
  },
  "language_info": {
   "codemirror_mode": {
    "name": "ipython",
    "version": 3
   },
   "file_extension": ".py",
   "mimetype": "text/x-python",
   "name": "python",
   "nbconvert_exporter": "python",
   "pygments_lexer": "ipython3",
   "version": "3.7.0"
  }
 },
 "nbformat": 4,
 "nbformat_minor": 2
}
