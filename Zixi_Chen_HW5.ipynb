{
 "cells": [
  {
   "cell_type": "markdown",
   "metadata": {},
   "source": [
    "# Question 1 Algorithmic questions"
   ]
  },
  {
   "cell_type": "code",
   "execution_count": 2,
   "metadata": {},
   "outputs": [],
   "source": [
    "import heapq\n",
    "\n",
    "def FindKthLargest(data, k):\n",
    "    data_inverse = [-i for i in data]               # get the inverse number\n",
    "    heapq.heapify(data_inverse)                    # a minimum heap\n",
    "    largest = []\n",
    "    for i in range(k):\n",
    "        largest.append(heapq.heappop(data_inverse))\n",
    "    return -largest[k-1]"
   ]
  },
  {
   "cell_type": "code",
   "execution_count": 3,
   "metadata": {},
   "outputs": [
    {
     "data": {
      "text/plain": [
       "6"
      ]
     },
     "execution_count": 3,
     "metadata": {},
     "output_type": "execute_result"
    }
   ],
   "source": [
    "data1 = [0,1,5,6,7,3,-1]           #test a normal case\n",
    "FindKthLargest(data1,2)"
   ]
  },
  {
   "cell_type": "code",
   "execution_count": 4,
   "metadata": {},
   "outputs": [
    {
     "data": {
      "text/plain": [
       "1"
      ]
     },
     "execution_count": 4,
     "metadata": {},
     "output_type": "execute_result"
    }
   ],
   "source": [
    "data2 = [1,1,1,1,1,1]             #test with the same numbers\n",
    "FindKthLargest(data2,2)"
   ]
  },
  {
   "cell_type": "code",
   "execution_count": 5,
   "metadata": {},
   "outputs": [
    {
     "data": {
      "text/plain": [
       "1"
      ]
     },
     "execution_count": 5,
     "metadata": {},
     "output_type": "execute_result"
    }
   ],
   "source": [
    "data2 = [1]           #test a extreme case\n",
    "FindKthLargest(data2,1)"
   ]
  },
  {
   "cell_type": "markdown",
   "metadata": {},
   "source": [
    "The time complexity of the program is O(n): as O(n) for heapify, also O(n) for the inverse, and at most O(n) for the for loop, O(1) for the heappop in the loop."
   ]
  },
  {
   "cell_type": "markdown",
   "metadata": {},
   "source": [
    "# Question 2 Multithreading pop."
   ]
  },
  {
   "cell_type": "markdown",
   "metadata": {},
   "source": [
    "Using python data structure Queue, generate a queue that have 10000 elments. Then use 1, 5, 20 threads to pop out the elments out. Compare the efficiency when you use different number of threads and explain why you see the pattern of performance."
   ]
  },
  {
   "cell_type": "code",
   "execution_count": 5,
   "metadata": {},
   "outputs": [],
   "source": [
    "import threading\n",
    "import queue"
   ]
  },
  {
   "cell_type": "code",
   "execution_count": 6,
   "metadata": {},
   "outputs": [],
   "source": [
    "def popThreading(the_queue,k):\n",
    "    \n",
    "    def pop_queue(the_queue): \n",
    "        n = the_queue.qsize()\n",
    "        for i in range(n):\n",
    "            the_queue.get(False)\n",
    "\n",
    "    thread_list = []\n",
    "    for i in range(k):\n",
    "        t = threading.Thread(target=pop_queue, args=(the_queue,))     #k threads\n",
    "        thread_list.append(t)\n",
    "    for thread in thread_list:\n",
    "        thread.start()                      #Starts threads\n",
    "    for thread in thread_list:\n",
    "        thread.join()                    #This blocks the calling of thread until the thread is terminated.\n",
    "\n",
    "    print(\"Done with {} threads\".format(len(thread_list)))"
   ]
  },
  {
   "cell_type": "code",
   "execution_count": 23,
   "metadata": {},
   "outputs": [
    {
     "name": "stdout",
     "output_type": "stream",
     "text": [
      "Done with 1 threads\n",
      "Wall time: 40.9 ms\n"
     ]
    }
   ],
   "source": [
    "q1 = queue.Queue()\n",
    "for i in range(10000):\n",
    "    q1.put(i)\n",
    "\n",
    "%time popThreading(q1,1)"
   ]
  },
  {
   "cell_type": "code",
   "execution_count": 24,
   "metadata": {},
   "outputs": [
    {
     "name": "stdout",
     "output_type": "stream",
     "text": [
      "Done with 5 threads\n",
      "Wall time: 56.4 ms\n"
     ]
    }
   ],
   "source": [
    "q1 = queue.Queue()\n",
    "for i in range(10000):\n",
    "    q1.put(i)\n",
    "\n",
    "%time popThreading(q1,5)"
   ]
  },
  {
   "cell_type": "code",
   "execution_count": 26,
   "metadata": {},
   "outputs": [
    {
     "name": "stdout",
     "output_type": "stream",
     "text": [
      "Done with 20 threads\n",
      "Wall time: 54.4 ms\n"
     ]
    }
   ],
   "source": [
    "q1 = queue.Queue()\n",
    "for i in range(10000):\n",
    "    q1.put(i)\n",
    "\n",
    "%time popThreading(q1,20)"
   ]
  },
  {
   "cell_type": "markdown",
   "metadata": {},
   "source": [
    "As we run the code, the program with 5 threads and 20 threads sometimes reduces the running time, while sometimes not. This is due to the Global Interpreter Lock. Since one line of code can only be executed by one thread at a time, other threads have to wait until it is done and then get the GIL. Thus, there will have some cost when shift between different threads, and too many threads is definitely more costly."
   ]
  },
  {
   "cell_type": "code",
   "execution_count": null,
   "metadata": {},
   "outputs": [],
   "source": []
  }
 ],
 "metadata": {
  "kernelspec": {
   "display_name": "Python 3",
   "language": "python",
   "name": "python3"
  },
  "language_info": {
   "codemirror_mode": {
    "name": "ipython",
    "version": 3
   },
   "file_extension": ".py",
   "mimetype": "text/x-python",
   "name": "python",
   "nbconvert_exporter": "python",
   "pygments_lexer": "ipython3",
   "version": "3.7.0"
  }
 },
 "nbformat": 4,
 "nbformat_minor": 2
}
