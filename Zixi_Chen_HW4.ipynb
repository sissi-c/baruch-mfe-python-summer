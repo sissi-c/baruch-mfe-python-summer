{
 "cells": [
  {
   "cell_type": "markdown",
   "metadata": {},
   "source": [
    "# Problem 1: Exploratory Data Analysis"
   ]
  },
  {
   "cell_type": "code",
   "execution_count": 207,
   "metadata": {},
   "outputs": [
    {
     "data": {
      "text/html": [
       "<div>\n",
       "<style scoped>\n",
       "    .dataframe tbody tr th:only-of-type {\n",
       "        vertical-align: middle;\n",
       "    }\n",
       "\n",
       "    .dataframe tbody tr th {\n",
       "        vertical-align: top;\n",
       "    }\n",
       "\n",
       "    .dataframe thead th {\n",
       "        text-align: right;\n",
       "    }\n",
       "</style>\n",
       "<table border=\"1\" class=\"dataframe\">\n",
       "  <thead>\n",
       "    <tr style=\"text-align: right;\">\n",
       "      <th></th>\n",
       "      <th>sic</th>\n",
       "      <th>datacqtr</th>\n",
       "      <th>cusip</th>\n",
       "      <th>cshoq</th>\n",
       "      <th>saleq</th>\n",
       "      <th>prccq</th>\n",
       "    </tr>\n",
       "  </thead>\n",
       "  <tbody>\n",
       "    <tr>\n",
       "      <th>0</th>\n",
       "      <td>3089.0</td>\n",
       "      <td>1966Q1</td>\n",
       "      <td>000032102</td>\n",
       "      <td>0.219</td>\n",
       "      <td>NaN</td>\n",
       "      <td>NaN</td>\n",
       "    </tr>\n",
       "    <tr>\n",
       "      <th>1</th>\n",
       "      <td>3089.0</td>\n",
       "      <td>1966Q2</td>\n",
       "      <td>000032102</td>\n",
       "      <td>0.219</td>\n",
       "      <td>NaN</td>\n",
       "      <td>NaN</td>\n",
       "    </tr>\n",
       "    <tr>\n",
       "      <th>2</th>\n",
       "      <td>3089.0</td>\n",
       "      <td>1966Q3</td>\n",
       "      <td>000032102</td>\n",
       "      <td>0.219</td>\n",
       "      <td>NaN</td>\n",
       "      <td>NaN</td>\n",
       "    </tr>\n",
       "    <tr>\n",
       "      <th>3</th>\n",
       "      <td>3089.0</td>\n",
       "      <td>1966Q4</td>\n",
       "      <td>000032102</td>\n",
       "      <td>0.219</td>\n",
       "      <td>4.032</td>\n",
       "      <td>NaN</td>\n",
       "    </tr>\n",
       "    <tr>\n",
       "      <th>4</th>\n",
       "      <td>3089.0</td>\n",
       "      <td>1967Q1</td>\n",
       "      <td>000032102</td>\n",
       "      <td>0.277</td>\n",
       "      <td>NaN</td>\n",
       "      <td>NaN</td>\n",
       "    </tr>\n",
       "  </tbody>\n",
       "</table>\n",
       "</div>"
      ],
      "text/plain": [
       "      sic datacqtr      cusip  cshoq  saleq  prccq\n",
       "0  3089.0   1966Q1  000032102  0.219    NaN    NaN\n",
       "1  3089.0   1966Q2  000032102  0.219    NaN    NaN\n",
       "2  3089.0   1966Q3  000032102  0.219    NaN    NaN\n",
       "3  3089.0   1966Q4  000032102  0.219  4.032    NaN\n",
       "4  3089.0   1967Q1  000032102  0.277    NaN    NaN"
      ]
     },
     "execution_count": 207,
     "metadata": {},
     "output_type": "execute_result"
    }
   ],
   "source": [
    "from zipfile import ZipFile\n",
    "import pandas as pd\n",
    "myzip = ZipFile(r'C:\\Users\\Sissi Chen\\Desktop\\example\\input\\compustat.zip')     #load file from zip\n",
    "f = myzip.open('compustat.csv')\n",
    "df = pd.read_csv(f)\n",
    "df = df.loc[:,['sic','datacqtr','cusip','cshoq','saleq','prccq']]\n",
    "df.head()"
   ]
  },
  {
   "cell_type": "code",
   "execution_count": 41,
   "metadata": {},
   "outputs": [
    {
     "data": {
      "text/plain": [
       "1811294          NaN\n",
       "1811295    55.445500\n",
       "1811296    25.895700\n",
       "1811297    26.105953\n",
       "1811298    20.051200\n",
       "Name: mktcap, dtype: float64"
      ]
     },
     "execution_count": 41,
     "metadata": {},
     "output_type": "execute_result"
    }
   ],
   "source": [
    "df[\"mktcap\"] = df.cshoq*df.prccq      #compute market cap\n",
    "df[\"mktcap\"].tail(5)"
   ]
  },
  {
   "cell_type": "markdown",
   "metadata": {},
   "source": [
    "### Find outliers  \n",
    "We can use Tukey Method to check the outliers.  \n",
    "i.e. get the interquartile range, and values below Q1-1.5IQR and above Q3+1.5IQR are considered as outliers"
   ]
  },
  {
   "cell_type": "code",
   "execution_count": 42,
   "metadata": {},
   "outputs": [
    {
     "name": "stdout",
     "output_type": "stream",
     "text": [
      "234610 206869\n",
      "0.1521662004370214 0.15403235834382584\n"
     ]
    }
   ],
   "source": [
    "s_Q1 = df.saleq.quantile(.25)\n",
    "s_Q3 = df.saleq.quantile(.75)\n",
    "s_IQR = s_Q3 - s_Q1\n",
    "s_outlier = df.saleq[(df.saleq < s_Q1-1.5*s_IQR) | (df.saleq > s_Q3+1.5*s_IQR)]    #Tukey method\n",
    "m_Q1 = df.mktcap.quantile(.25)\n",
    "m_Q3 = df.mktcap.quantile(.75)\n",
    "m_IQR = m_Q3 - m_Q1\n",
    "m_outlier = df.mktcap[(df.mktcap < m_Q1-1.5*m_IQR) | (df.mktcap > m_Q3+1.5*m_IQR)]\n",
    "print(s_outlier.count(),m_outlier.count())\n",
    "print(s_outlier.count()/df.saleq.count(),m_outlier.count()/df.mktcap.count())"
   ]
  },
  {
   "cell_type": "markdown",
   "metadata": {},
   "source": [
    "Using Tukey Method, we can find some outliers, and they count for 15% of the total data for both indicators.   \n",
    "This may due to the variability of sample，and indicate that the sample has very heavy tails.  "
   ]
  },
  {
   "cell_type": "markdown",
   "metadata": {},
   "source": [
    "### Compute Statistics"
   ]
  },
  {
   "cell_type": "code",
   "execution_count": 43,
   "metadata": {},
   "outputs": [],
   "source": [
    "s_mean = df.saleq.mean()\n",
    "m_mean = df.mktcap.mean()\n",
    "s_std = df.saleq.std()\n",
    "m_std = df.mktcap.std()\n",
    "s_nan = df.saleq.isnull().sum()\n",
    "m_nan = df.mktcap.isnull().sum()\n",
    "s_ratio = s_nan/(df.saleq.count()+s_nan)\n",
    "m_ratio = m_nan/(df.mktcap.count()+m_nan)"
   ]
  },
  {
   "cell_type": "code",
   "execution_count": 44,
   "metadata": {},
   "outputs": [
    {
     "data": {
      "text/plain": [
       "mean            445.150664\n",
       "std            2679.706576\n",
       "nan          269498.000000\n",
       "nan ratio         0.148787\n",
       "dtype: float64"
      ]
     },
     "execution_count": 44,
     "metadata": {},
     "output_type": "execute_result"
    }
   ],
   "source": [
    "s = pd.Series([s_mean,s_std,s_nan,s_ratio], index = [\"mean\",\"std\",\"nan\",\"nan ratio\"])\n",
    "m = pd.Series([m_mean,m_std,m_nan,m_ratio], index = [\"mean\",\"std\",\"nan\",\"nan ratio\"])\n",
    "s"
   ]
  },
  {
   "cell_type": "code",
   "execution_count": 45,
   "metadata": {},
   "outputs": [
    {
     "data": {
      "text/html": [
       "<div>\n",
       "<style scoped>\n",
       "    .dataframe tbody tr th:only-of-type {\n",
       "        vertical-align: middle;\n",
       "    }\n",
       "\n",
       "    .dataframe tbody tr th {\n",
       "        vertical-align: top;\n",
       "    }\n",
       "\n",
       "    .dataframe thead th {\n",
       "        text-align: right;\n",
       "    }\n",
       "</style>\n",
       "<table border=\"1\" class=\"dataframe\">\n",
       "  <thead>\n",
       "    <tr style=\"text-align: right;\">\n",
       "      <th></th>\n",
       "      <th>saleq</th>\n",
       "      <th>mktcap</th>\n",
       "    </tr>\n",
       "  </thead>\n",
       "  <tbody>\n",
       "    <tr>\n",
       "      <th>mean</th>\n",
       "      <td>445.150664</td>\n",
       "      <td>2057.473104</td>\n",
       "    </tr>\n",
       "    <tr>\n",
       "      <th>std</th>\n",
       "      <td>2679.706576</td>\n",
       "      <td>13202.197457</td>\n",
       "    </tr>\n",
       "    <tr>\n",
       "      <th>nan</th>\n",
       "      <td>269498.000000</td>\n",
       "      <td>468276.000000</td>\n",
       "    </tr>\n",
       "    <tr>\n",
       "      <th>nan ratio</th>\n",
       "      <td>0.148787</td>\n",
       "      <td>0.258530</td>\n",
       "    </tr>\n",
       "  </tbody>\n",
       "</table>\n",
       "</div>"
      ],
      "text/plain": [
       "                   saleq         mktcap\n",
       "mean          445.150664    2057.473104\n",
       "std          2679.706576   13202.197457\n",
       "nan        269498.000000  468276.000000\n",
       "nan ratio       0.148787       0.258530"
      ]
     },
     "execution_count": 45,
     "metadata": {},
     "output_type": "execute_result"
    }
   ],
   "source": [
    "df_stats = pd.concat([s,m],axis = 1)\n",
    "df_stats.columns = ['saleq','mktcap']      #put the statistics into a dataframe\n",
    "df_stats"
   ]
  },
  {
   "cell_type": "code",
   "execution_count": 16,
   "metadata": {},
   "outputs": [
    {
     "data": {
      "text/plain": [
       "<matplotlib.axes._subplots.AxesSubplot at 0x1720a57a128>"
      ]
     },
     "execution_count": 16,
     "metadata": {},
     "output_type": "execute_result"
    },
    {
     "data": {
      "image/png": "[encoded data removed]",
      "text/plain": [
       "<Figure size 432x288 with 1 Axes>"
      ]
     },
     "metadata": {
      "needs_background": "light"
     },
     "output_type": "display_data"
    }
   ],
   "source": [
    "import matplotlib.pyplot as plt\n",
    "df.saleq.plot.box()"
   ]
  },
  {
   "cell_type": "code",
   "execution_count": 15,
   "metadata": {},
   "outputs": [
    {
     "data": {
      "text/plain": [
       "<matplotlib.axes._subplots.AxesSubplot at 0x1720649f940>"
      ]
     },
     "execution_count": 15,
     "metadata": {},
     "output_type": "execute_result"
    },
    {
     "data": {
      "image/png": "[encoded data removed]",
      "text/plain": [
       "<Figure size 432x288 with 1 Axes>"
      ]
     },
     "metadata": {
      "needs_background": "light"
     },
     "output_type": "display_data"
    }
   ],
   "source": [
    "df.mktcap.plot.box()"
   ]
  },
  {
   "cell_type": "markdown",
   "metadata": {},
   "source": [
    "Analyzing the above statistics and plots, we can see that for both indicators, there exists very large outliers that far exceeding the means, and many of them are hundreds of times larger than the means. Since the number of outliers are very large, we can tell that most of the outliers detected by Tukey Method come from sample variability, while only few are true outliers. The heavy tailsm also lead to very high stds."
   ]
  },
  {
   "cell_type": "markdown",
   "metadata": {},
   "source": [
    "# Problem 2: Compute Industry Concentration"
   ]
  },
  {
   "cell_type": "markdown",
   "metadata": {},
   "source": [
    "Using the same data in question 1. Compute a panel data for HHI index for all industry, using a 2 digit SIC code.\n",
    "\n",
    "Choose top 4 industry with the highest average HHI index, plot their time series pattern of HHI in a 2 by 2 figure."
   ]
  },
  {
   "cell_type": "code",
   "execution_count": 208,
   "metadata": {},
   "outputs": [
    {
     "data": {
      "text/html": [
       "<div>\n",
       "<style scoped>\n",
       "    .dataframe tbody tr th:only-of-type {\n",
       "        vertical-align: middle;\n",
       "    }\n",
       "\n",
       "    .dataframe tbody tr th {\n",
       "        vertical-align: top;\n",
       "    }\n",
       "\n",
       "    .dataframe thead th {\n",
       "        text-align: right;\n",
       "    }\n",
       "</style>\n",
       "<table border=\"1\" class=\"dataframe\">\n",
       "  <thead>\n",
       "    <tr style=\"text-align: right;\">\n",
       "      <th></th>\n",
       "      <th>index</th>\n",
       "      <th>sic</th>\n",
       "      <th>datacqtr</th>\n",
       "      <th>cusip</th>\n",
       "      <th>cshoq</th>\n",
       "      <th>saleq</th>\n",
       "      <th>prccq</th>\n",
       "    </tr>\n",
       "  </thead>\n",
       "  <tbody>\n",
       "    <tr>\n",
       "      <th>0</th>\n",
       "      <td>18</td>\n",
       "      <td>3089.0</td>\n",
       "      <td>1970Q3</td>\n",
       "      <td>000032102</td>\n",
       "      <td>2.230</td>\n",
       "      <td>10.698</td>\n",
       "      <td>11.750</td>\n",
       "    </tr>\n",
       "    <tr>\n",
       "      <th>1</th>\n",
       "      <td>19</td>\n",
       "      <td>3089.0</td>\n",
       "      <td>1970Q4</td>\n",
       "      <td>000032102</td>\n",
       "      <td>2.446</td>\n",
       "      <td>10.919</td>\n",
       "      <td>10.000</td>\n",
       "    </tr>\n",
       "    <tr>\n",
       "      <th>2</th>\n",
       "      <td>20</td>\n",
       "      <td>3089.0</td>\n",
       "      <td>1971Q1</td>\n",
       "      <td>000032102</td>\n",
       "      <td>3.507</td>\n",
       "      <td>7.983</td>\n",
       "      <td>9.750</td>\n",
       "    </tr>\n",
       "    <tr>\n",
       "      <th>3</th>\n",
       "      <td>21</td>\n",
       "      <td>3089.0</td>\n",
       "      <td>1971Q2</td>\n",
       "      <td>000032102</td>\n",
       "      <td>3.518</td>\n",
       "      <td>9.885</td>\n",
       "      <td>8.250</td>\n",
       "    </tr>\n",
       "    <tr>\n",
       "      <th>4</th>\n",
       "      <td>22</td>\n",
       "      <td>3089.0</td>\n",
       "      <td>1971Q3</td>\n",
       "      <td>000032102</td>\n",
       "      <td>3.515</td>\n",
       "      <td>7.975</td>\n",
       "      <td>4.625</td>\n",
       "    </tr>\n",
       "  </tbody>\n",
       "</table>\n",
       "</div>"
      ],
      "text/plain": [
       "   index     sic datacqtr      cusip  cshoq   saleq   prccq\n",
       "0     18  3089.0   1970Q3  000032102  2.230  10.698  11.750\n",
       "1     19  3089.0   1970Q4  000032102  2.446  10.919  10.000\n",
       "2     20  3089.0   1971Q1  000032102  3.507   7.983   9.750\n",
       "3     21  3089.0   1971Q2  000032102  3.518   9.885   8.250\n",
       "4     22  3089.0   1971Q3  000032102  3.515   7.975   4.625"
      ]
     },
     "execution_count": 208,
     "metadata": {},
     "output_type": "execute_result"
    }
   ],
   "source": [
    "df = df.dropna().reset_index()\n",
    "df.head()"
   ]
  },
  {
   "cell_type": "code",
   "execution_count": 209,
   "metadata": {},
   "outputs": [
    {
     "data": {
      "text/plain": [
       "70"
      ]
     },
     "execution_count": 209,
     "metadata": {},
     "output_type": "execute_result"
    }
   ],
   "source": [
    "df.sic = df.sic.astype(str)        #change it to str type\n",
    "df.sic = df.sic.str[:2]        #take the first two digits as sic industry code\n",
    "df.sic.nunique()"
   ]
  },
  {
   "cell_type": "code",
   "execution_count": 210,
   "metadata": {},
   "outputs": [
    {
     "data": {
      "text/html": [
       "<div>\n",
       "<style scoped>\n",
       "    .dataframe tbody tr th:only-of-type {\n",
       "        vertical-align: middle;\n",
       "    }\n",
       "\n",
       "    .dataframe tbody tr th {\n",
       "        vertical-align: top;\n",
       "    }\n",
       "\n",
       "    .dataframe thead th {\n",
       "        text-align: right;\n",
       "    }\n",
       "</style>\n",
       "<table border=\"1\" class=\"dataframe\">\n",
       "  <thead>\n",
       "    <tr style=\"text-align: right;\">\n",
       "      <th></th>\n",
       "      <th>index</th>\n",
       "      <th>sic</th>\n",
       "      <th>datacqtr</th>\n",
       "      <th>cusip</th>\n",
       "      <th>cshoq</th>\n",
       "      <th>saleq</th>\n",
       "      <th>prccq</th>\n",
       "      <th>saleq_groupsum</th>\n",
       "      <th>mktshr</th>\n",
       "      <th>mktshr_sqr</th>\n",
       "      <th>HHI</th>\n",
       "    </tr>\n",
       "  </thead>\n",
       "  <tbody>\n",
       "    <tr>\n",
       "      <th>0</th>\n",
       "      <td>18</td>\n",
       "      <td>30</td>\n",
       "      <td>1970Q3</td>\n",
       "      <td>000032102</td>\n",
       "      <td>2.230</td>\n",
       "      <td>10.698</td>\n",
       "      <td>11.750</td>\n",
       "      <td>2636.569</td>\n",
       "      <td>0.405755</td>\n",
       "      <td>0.164637</td>\n",
       "      <td>1751.728141</td>\n",
       "    </tr>\n",
       "    <tr>\n",
       "      <th>1</th>\n",
       "      <td>19</td>\n",
       "      <td>30</td>\n",
       "      <td>1970Q4</td>\n",
       "      <td>000032102</td>\n",
       "      <td>2.446</td>\n",
       "      <td>10.919</td>\n",
       "      <td>10.000</td>\n",
       "      <td>3710.651</td>\n",
       "      <td>0.294261</td>\n",
       "      <td>0.086590</td>\n",
       "      <td>1247.507412</td>\n",
       "    </tr>\n",
       "    <tr>\n",
       "      <th>2</th>\n",
       "      <td>20</td>\n",
       "      <td>30</td>\n",
       "      <td>1971Q1</td>\n",
       "      <td>000032102</td>\n",
       "      <td>3.507</td>\n",
       "      <td>7.983</td>\n",
       "      <td>9.750</td>\n",
       "      <td>3144.142</td>\n",
       "      <td>0.253901</td>\n",
       "      <td>0.064466</td>\n",
       "      <td>1376.200579</td>\n",
       "    </tr>\n",
       "    <tr>\n",
       "      <th>3</th>\n",
       "      <td>21</td>\n",
       "      <td>30</td>\n",
       "      <td>1971Q2</td>\n",
       "      <td>000032102</td>\n",
       "      <td>3.518</td>\n",
       "      <td>9.885</td>\n",
       "      <td>8.250</td>\n",
       "      <td>4269.354</td>\n",
       "      <td>0.231534</td>\n",
       "      <td>0.053608</td>\n",
       "      <td>1229.647313</td>\n",
       "    </tr>\n",
       "    <tr>\n",
       "      <th>4</th>\n",
       "      <td>22</td>\n",
       "      <td>30</td>\n",
       "      <td>1971Q3</td>\n",
       "      <td>000032102</td>\n",
       "      <td>3.515</td>\n",
       "      <td>7.975</td>\n",
       "      <td>4.625</td>\n",
       "      <td>3471.214</td>\n",
       "      <td>0.229747</td>\n",
       "      <td>0.052784</td>\n",
       "      <td>1336.229848</td>\n",
       "    </tr>\n",
       "  </tbody>\n",
       "</table>\n",
       "</div>"
      ],
      "text/plain": [
       "   index sic datacqtr      cusip  cshoq   saleq   prccq  saleq_groupsum  \\\n",
       "0     18  30   1970Q3  000032102  2.230  10.698  11.750        2636.569   \n",
       "1     19  30   1970Q4  000032102  2.446  10.919  10.000        3710.651   \n",
       "2     20  30   1971Q1  000032102  3.507   7.983   9.750        3144.142   \n",
       "3     21  30   1971Q2  000032102  3.518   9.885   8.250        4269.354   \n",
       "4     22  30   1971Q3  000032102  3.515   7.975   4.625        3471.214   \n",
       "\n",
       "     mktshr  mktshr_sqr          HHI  \n",
       "0  0.405755    0.164637  1751.728141  \n",
       "1  0.294261    0.086590  1247.507412  \n",
       "2  0.253901    0.064466  1376.200579  \n",
       "3  0.231534    0.053608  1229.647313  \n",
       "4  0.229747    0.052784  1336.229848  "
      ]
     },
     "execution_count": 210,
     "metadata": {},
     "output_type": "execute_result"
    }
   ],
   "source": [
    "df['saleq_groupsum'] = df.groupby(['sic','datacqtr']).saleq.transform('sum')     #total industry sales by quarter\n",
    "df['mktshr'] = df.saleq/df.saleq_groupsum*100         #industry market share of each company in each quarter\n",
    "df['mktshr_sqr'] = df.mktshr * df.mktshr\n",
    "df['HHI'] = df.groupby(['sic','datacqtr']).mktshr_sqr.transform('sum')    #HHI for each industry in each quarter\n",
    "df.head()"
   ]
  },
  {
   "cell_type": "code",
   "execution_count": 213,
   "metadata": {},
   "outputs": [
    {
     "name": "stderr",
     "output_type": "stream",
     "text": [
      "C:\\Users\\Sissi Chen\\Anaconda3\\lib\\site-packages\\ipykernel_launcher.py:2: SettingWithCopyWarning: \n",
      "A value is trying to be set on a copy of a slice from a DataFrame.\n",
      "Try using .loc[row_indexer,col_indexer] = value instead\n",
      "\n",
      "See the caveats in the documentation: http://pandas.pydata.org/pandas-docs/stable/indexing.html#indexing-view-versus-copy\n",
      "  \n"
     ]
    },
    {
     "data": {
      "text/plain": [
       "sic            70\n",
       "HHI_average    70\n",
       "dtype: int64"
      ]
     },
     "execution_count": 213,
     "metadata": {},
     "output_type": "execute_result"
    }
   ],
   "source": [
    "df_HHI = df.drop_duplicates(['sic','datacqtr'])\n",
    "df_HHI['HHI_average'] = df_HHI.groupby('sic').HHI.transform('mean')   #dataframe for all HHI\n",
    "df_HHI_ave = df_HHI.loc[:,['sic','HHI_average']].drop_duplicates(['sic'])       #dataframe only for the mean\n",
    "df_HHI_ave.count()"
   ]
  },
  {
   "cell_type": "code",
   "execution_count": 203,
   "metadata": {},
   "outputs": [
    {
     "data": {
      "text/html": [
       "<div>\n",
       "<style scoped>\n",
       "    .dataframe tbody tr th:only-of-type {\n",
       "        vertical-align: middle;\n",
       "    }\n",
       "\n",
       "    .dataframe tbody tr th {\n",
       "        vertical-align: top;\n",
       "    }\n",
       "\n",
       "    .dataframe thead th {\n",
       "        text-align: right;\n",
       "    }\n",
       "</style>\n",
       "<table border=\"1\" class=\"dataframe\">\n",
       "  <thead>\n",
       "    <tr style=\"text-align: right;\">\n",
       "      <th></th>\n",
       "      <th>sic</th>\n",
       "      <th>HHI_average</th>\n",
       "    </tr>\n",
       "  </thead>\n",
       "  <tbody>\n",
       "    <tr>\n",
       "      <th>1042134</th>\n",
       "      <td>86</td>\n",
       "      <td>10000</td>\n",
       "    </tr>\n",
       "    <tr>\n",
       "      <th>173723</th>\n",
       "      <td>84</td>\n",
       "      <td>9852</td>\n",
       "    </tr>\n",
       "    <tr>\n",
       "      <th>170635</th>\n",
       "      <td>90</td>\n",
       "      <td>9580</td>\n",
       "    </tr>\n",
       "    <tr>\n",
       "      <th>874782</th>\n",
       "      <td>81</td>\n",
       "      <td>9400</td>\n",
       "    </tr>\n",
       "  </tbody>\n",
       "</table>\n",
       "</div>"
      ],
      "text/plain": [
       "        sic  HHI_average\n",
       "1042134  86        10000\n",
       "173723   84         9852\n",
       "170635   90         9580\n",
       "874782   81         9400"
      ]
     },
     "execution_count": 203,
     "metadata": {},
     "output_type": "execute_result"
    }
   ],
   "source": [
    "df_HHI_ave.HHI_average = df_HHI_ave.HHI_average.astype('int')\n",
    "df_HHI_ave.nlargest(4,'HHI_average')                 #the 4 industries with the largest HHI"
   ]
  },
  {
   "cell_type": "code",
   "execution_count": 232,
   "metadata": {},
   "outputs": [
    {
     "name": "stderr",
     "output_type": "stream",
     "text": [
      "C:\\Users\\Sissi Chen\\Anaconda3\\lib\\site-packages\\pandas\\core\\generic.py:4405: SettingWithCopyWarning: \n",
      "A value is trying to be set on a copy of a slice from a DataFrame.\n",
      "Try using .loc[row_indexer,col_indexer] = value instead\n",
      "\n",
      "See the caveats in the documentation: http://pandas.pydata.org/pandas-docs/stable/indexing.html#indexing-view-versus-copy\n",
      "  self[name] = value\n"
     ]
    },
    {
     "data": {
      "text/plain": [
       "<matplotlib.axes._subplots.AxesSubplot at 0x1720f90f5c0>"
      ]
     },
     "execution_count": 232,
     "metadata": {},
     "output_type": "execute_result"
    },
    {
     "data": {
      "image/png": "[encoded data removed]",
      "text/plain": [
       "<Figure size 432x288 with 1 Axes>"
      ]
     },
     "metadata": {
      "needs_background": "light"
     },
     "output_type": "display_data"
    }
   ],
   "source": [
    "import matplotlib.pyplot as plt\n",
    "df_HHI.sic = df_HHI.sic.astype('int')\n",
    "df_HHI2 = df_HHI.loc[:,['sic','datacqtr','HHI']].set_index('datacqtr')\n",
    "df_86 = df_HHI2.loc[df_HHI2.sic == 86]\n",
    "df_86.HHI.plot()"
   ]
  },
  {
   "cell_type": "code",
   "execution_count": 233,
   "metadata": {},
   "outputs": [
    {
     "data": {
      "text/plain": [
       "<matplotlib.axes._subplots.AxesSubplot at 0x17236330dd8>"
      ]
     },
     "execution_count": 233,
     "metadata": {},
     "output_type": "execute_result"
    },
    {
     "data": {
      "image/png": "[encoded data removed]",
      "text/plain": [
       "<Figure size 432x288 with 1 Axes>"
      ]
     },
     "metadata": {
      "needs_background": "light"
     },
     "output_type": "display_data"
    }
   ],
   "source": [
    "df_84 = df_HHI2.loc[df_HHI2.sic == 84]\n",
    "df_84.HHI.plot()"
   ]
  },
  {
   "cell_type": "code",
   "execution_count": 238,
   "metadata": {},
   "outputs": [
    {
     "data": {
      "text/plain": [
       "<matplotlib.axes._subplots.AxesSubplot at 0x17210276a58>"
      ]
     },
     "execution_count": 238,
     "metadata": {},
     "output_type": "execute_result"
    },
    {
     "data": {
      "image/png": "[encoded data removed]",
      "text/plain": [
       "<Figure size 432x288 with 1 Axes>"
      ]
     },
     "metadata": {
      "needs_background": "light"
     },
     "output_type": "display_data"
    }
   ],
   "source": [
    "df_90 = df_HHI2.loc[df_HHI2.sic == 90]\n",
    "df_90.HHI.plot()"
   ]
  },
  {
   "cell_type": "code",
   "execution_count": 239,
   "metadata": {},
   "outputs": [
    {
     "data": {
      "text/plain": [
       "<matplotlib.axes._subplots.AxesSubplot at 0x172101d5780>"
      ]
     },
     "execution_count": 239,
     "metadata": {},
     "output_type": "execute_result"
    },
    {
     "data": {
      "image/png": "[encoded data removed]",
      "text/plain": [
       "<Figure size 432x288 with 1 Axes>"
      ]
     },
     "metadata": {
      "needs_background": "light"
     },
     "output_type": "display_data"
    }
   ],
   "source": [
    "df_81 = df_HHI2.loc[df_HHI2.sic == 81]\n",
    "df_81.HHI.plot()"
   ]
  }
 ],
 "metadata": {
  "kernelspec": {
   "display_name": "Python 3",
   "language": "python",
   "name": "python3"
  },
  "language_info": {
   "codemirror_mode": {
    "name": "ipython",
    "version": 3
   },
   "file_extension": ".py",
   "mimetype": "text/x-python",
   "name": "python",
   "nbconvert_exporter": "python",
   "pygments_lexer": "ipython3",
   "version": "3.7.0"
  }
 },
 "nbformat": 4,
 "nbformat_minor": 2
}
