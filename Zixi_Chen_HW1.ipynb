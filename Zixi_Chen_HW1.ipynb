{
 "cells": [
  {
   "cell_type": "markdown",
   "metadata": {},
   "source": [
    "1.2 Write a Jupyter Magic"
   ]
  },
  {
   "cell_type": "markdown",
   "metadata": {},
   "source": [
    "Write a Jupyter Magic that count the number of words in the cell. \n",
    "Try to make it both a line and cell magic. Demonstrate its usage with examples."
   ]
  },
  {
   "cell_type": "code",
   "execution_count": 13,
   "metadata": {},
   "outputs": [],
   "source": [
    "from IPython.core.magic import (register_line_cell_magic)\n",
    "\n",
    "@register_line_cell_magic            # Both a line magic and cell magic\n",
    "def countwords(line,cell=None):\n",
    "    if cell== None:\n",
    "        words=line.split(' ')       # Put the word in the words list\n",
    "        n=0\n",
    "        for word in words:\n",
    "            if not word=='':       # Count only the word that is not \" \"\n",
    "                n=n+1\n",
    "        return n\n",
    "    else:\n",
    "        lines=cell.split('\\n')\n",
    "        n=0\n",
    "        for line in lines:\n",
    "            n=n+countwords(line,None)\n",
    "        return n"
   ]
  },
  {
   "cell_type": "code",
   "execution_count": 14,
   "metadata": {},
   "outputs": [
    {
     "data": {
      "text/plain": [
       "5"
      ]
     },
     "execution_count": 14,
     "metadata": {},
     "output_type": "execute_result"
    }
   ],
   "source": [
    "%countwords this is a line magic"
   ]
  },
  {
   "cell_type": "code",
   "execution_count": 21,
   "metadata": {},
   "outputs": [
    {
     "data": {
      "text/plain": [
       "3"
      ]
     },
     "execution_count": 21,
     "metadata": {},
     "output_type": "execute_result"
    }
   ],
   "source": [
    "%%countwords this is\n",
    "a line    magic  "
   ]
  },
  {
   "cell_type": "markdown",
   "metadata": {},
   "source": [
    "1.3 Profile the speed of list comprehension vs. for loops"
   ]
  },
  {
   "cell_type": "markdown",
   "metadata": {},
   "source": [
    "Design some experiments to compare the speed of list comprehension and using a for loop. Practice using %time/%%time magics."
   ]
  },
  {
   "cell_type": "code",
   "execution_count": 70,
   "metadata": {},
   "outputs": [
    {
     "name": "stdout",
     "output_type": "stream",
     "text": [
      "Wall time: 6.94 ms\n"
     ]
    }
   ],
   "source": [
    "%time a=[x**2 for x in range(10000)]     # List comprehension"
   ]
  },
  {
   "cell_type": "code",
   "execution_count": 79,
   "metadata": {},
   "outputs": [
    {
     "name": "stdout",
     "output_type": "stream",
     "text": [
      "Wall time: 12 ms\n"
     ]
    }
   ],
   "source": [
    "%%time\n",
    "\n",
    "# For loop\n",
    "a=[]\n",
    "for x in range(10000):\n",
    "     a.append(x**2)"
   ]
  },
  {
   "cell_type": "code",
   "execution_count": 64,
   "metadata": {},
   "outputs": [
    {
     "name": "stdout",
     "output_type": "stream",
     "text": [
      "Wall time: 7.97 ms\n"
     ]
    }
   ],
   "source": [
    "%time a=[\"odd\" if (x**2)%2 else \"even\" for x in range(10000)]    # List comprehension"
   ]
  },
  {
   "cell_type": "code",
   "execution_count": 76,
   "metadata": {},
   "outputs": [
    {
     "name": "stdout",
     "output_type": "stream",
     "text": [
      "Wall time: 11.5 ms\n"
     ]
    }
   ],
   "source": [
    "%%time \n",
    "\n",
    "# For loop\n",
    "a=[]\n",
    "for x in range(10000):\n",
    "    if (x**2)%2:\n",
    "        a.append(\"odd\")\n",
    "    else:\n",
    "        a.append(\"even\")"
   ]
  },
  {
   "cell_type": "markdown",
   "metadata": {},
   "source": [
    "1.4 Prime numbers"
   ]
  },
  {
   "cell_type": "markdown",
   "metadata": {},
   "source": [
    "Write a function to return all prime numbers in a list. Can you do this with one line of list comprehension?"
   ]
  },
  {
   "cell_type": "code",
   "execution_count": 99,
   "metadata": {},
   "outputs": [],
   "source": [
    "import math\n",
    "def FindPrime(N):\n",
    "    return [x for x in range(2,N) if all(x%d for d in range(2,int(math.sqrt(x))+1)) ]     # 'for' in front of 'if' with no 'else'"
   ]
  },
  {
   "cell_type": "code",
   "execution_count": 100,
   "metadata": {},
   "outputs": [
    {
     "data": {
      "text/plain": [
       "[2, 3, 5, 7, 11, 13, 17, 19, 23, 29, 31, 37, 41, 43, 47]"
      ]
     },
     "execution_count": 100,
     "metadata": {},
     "output_type": "execute_result"
    }
   ],
   "source": [
    "FindPrime(50)"
   ]
  },
  {
   "cell_type": "markdown",
   "metadata": {},
   "source": [
    "1.5 Extend the Vector class"
   ]
  },
  {
   "cell_type": "markdown",
   "metadata": {},
   "source": [
    "• Extend the Vector class example to support any dimension.  \n",
    "• Think of operations/methods that would be useful when using the Vector class.Do some research on dunder methods to see how you can implement them in a Pythonic way.  \n",
    "• Do not worry about performance.  \n",
    "• Some examples of usages are."
   ]
  },
  {
   "cell_type": "code",
   "execution_count": 166,
   "metadata": {},
   "outputs": [],
   "source": [
    "import math\n",
    "\n",
    "class Vector:\n",
    "    \n",
    "    # Construction\n",
    "    def __init__(self, x=0, *args): \n",
    "        self.vec=[]\n",
    "        if type(x)==tuple:                    # For output of pow and slice, when the output is a vector\n",
    "            for i in x:\n",
    "                self.vec.append(i)\n",
    "        else:\n",
    "            self.vec.append(x)\n",
    "            for arg in args:\n",
    "                self.vec.append(arg)\n",
    "    \n",
    "    # Representation\n",
    "    def __repr__(self):\n",
    "        s='Vector('\n",
    "        for i in self.vec:\n",
    "            s=s+str(i)+', '\n",
    "        if len(self.vec)==0:\n",
    "            return s+')'\n",
    "        else:\n",
    "            return s[:-2]+')'\n",
    "    \n",
    "    # Absolute value\n",
    "    def __abs__(self):\n",
    "        squaresum=0\n",
    "        for x in self.vec:\n",
    "            squaresum+=x**2\n",
    "        return math.sqrt(squaresum)\n",
    "        \n",
    "    # Sum\n",
    "    def __add__(self, other): \n",
    "        n=min(len(self.vec),len(other.vec))\n",
    "        if len(self.vec)<=len(other.vec):\n",
    "            vec1=other.vec\n",
    "            for i in range(n):\n",
    "                vec1[i]=self.vec[i]+other.vec[i]\n",
    "        else:\n",
    "            vec1=self.vec\n",
    "            for i in range(n):\n",
    "                vec1[i]=other.vec[i]+self.vec[i]\n",
    "        return vec1\n",
    "            \n",
    "\n",
    "    # Get item / Slicing\n",
    "    def __getitem__(self, slice):\n",
    "        if type(slice)==int:                           # get item\n",
    "            return self.vec[slice]\n",
    "        else:                                          # slicing\n",
    "            return Vector(tuple(self.vec[slice]))\n",
    "        \n",
    "        \n",
    "    # Length\n",
    "    def __len__(self):\n",
    "        return len(self.vec)\n",
    "    \n",
    "    # Power\n",
    "    def __pow__(self, num):\n",
    "        return Vector(tuple([x**num for x in self.vec]))\n",
    "    \n"
   ]
  },
  {
   "cell_type": "code",
   "execution_count": 167,
   "metadata": {},
   "outputs": [],
   "source": [
    "v=Vector(1,2,3,4,5,6)"
   ]
  },
  {
   "cell_type": "code",
   "execution_count": 142,
   "metadata": {},
   "outputs": [
    {
     "data": {
      "text/plain": [
       "4"
      ]
     },
     "execution_count": 142,
     "metadata": {},
     "output_type": "execute_result"
    }
   ],
   "source": [
    "v[3]"
   ]
  },
  {
   "cell_type": "code",
   "execution_count": 109,
   "metadata": {},
   "outputs": [
    {
     "data": {
      "text/plain": [
       "9.539392014169456"
      ]
     },
     "execution_count": 109,
     "metadata": {},
     "output_type": "execute_result"
    }
   ],
   "source": [
    "abs(v)"
   ]
  },
  {
   "cell_type": "code",
   "execution_count": 110,
   "metadata": {},
   "outputs": [
    {
     "data": {
      "text/plain": [
       "6"
      ]
     },
     "execution_count": 110,
     "metadata": {},
     "output_type": "execute_result"
    }
   ],
   "source": [
    "len(v)"
   ]
  },
  {
   "cell_type": "code",
   "execution_count": 168,
   "metadata": {},
   "outputs": [
    {
     "data": {
      "text/plain": [
       "Vector(5)"
      ]
     },
     "execution_count": 168,
     "metadata": {},
     "output_type": "execute_result"
    }
   ],
   "source": [
    "v[4:5]"
   ]
  },
  {
   "cell_type": "code",
   "execution_count": 169,
   "metadata": {},
   "outputs": [
    {
     "data": {
      "text/plain": [
       "Vector(1, 4, 9, 16, 25, 36)"
      ]
     },
     "execution_count": 169,
     "metadata": {},
     "output_type": "execute_result"
    }
   ],
   "source": [
    "v**2"
   ]
  },
  {
   "cell_type": "code",
   "execution_count": 154,
   "metadata": {},
   "outputs": [
    {
     "data": {
      "text/plain": [
       "[2, 4, 6, 4, 5, 6]"
      ]
     },
     "execution_count": 154,
     "metadata": {},
     "output_type": "execute_result"
    }
   ],
   "source": [
    "u=Vector(1,2,3)\n",
    "v+u"
   ]
  },
  {
   "cell_type": "markdown",
   "metadata": {},
   "source": [
    "  \n",
    "1.6 Case-insensitive dictionary"
   ]
  },
  {
   "cell_type": "markdown",
   "metadata": {},
   "source": [
    "• Write a CaseInsensitiveDict class that is insensitive to the case of keys.  \n",
    "• It’s a good idea to inherit from collections.UserDict.   \n",
    "• Use examples to demonstrate how it should be used. "
   ]
  },
  {
   "cell_type": "code",
   "execution_count": 176,
   "metadata": {},
   "outputs": [],
   "source": [
    "from collections import UserDict"
   ]
  },
  {
   "cell_type": "code",
   "execution_count": 177,
   "metadata": {},
   "outputs": [
    {
     "data": {
      "text/plain": [
       "{'a': 23}"
      ]
     },
     "execution_count": 177,
     "metadata": {},
     "output_type": "execute_result"
    }
   ],
   "source": [
    "a=UserDict({'a':23})\n",
    "a.data"
   ]
  },
  {
   "cell_type": "code",
   "execution_count": 175,
   "metadata": {},
   "outputs": [],
   "source": [
    "class CaseInsensitiveDict(UserDict):\n",
    "    \n",
    "    def __init__(self,data={}):\n",
    "        self.keyset=set(data.keys())\n",
    "        d={}\n",
    "        for (key,value) in data.items():\n",
    "            if type(key)==str:\n",
    "                d[key.lower()]=value\n",
    "            else:\n",
    "                d[key]=value\n",
    "        super().__init__(d)\n",
    "                \n",
    "    def __getitem__(self,key):\n",
    "        return super().__getitem__(key)\n",
    "        \n",
    "    def __setitem__(self,key,value):\n",
    "        self.keyset.add(key)\n",
    "        if type(key)==str:\n",
    "            key=key.lower()\n",
    "        return super().__setitem__(key,value)\n",
    "        \n",
    "    def __delitem__(self,key):\n",
    "        self.keyset.remove(key)\n",
    "        if type(key)==str:\n",
    "            key=key.lower()\n",
    "        return super().__delitem__(key)"
   ]
  },
  {
   "cell_type": "code",
   "execution_count": 178,
   "metadata": {},
   "outputs": [],
   "source": [
    "a=CaseInsensitiveDict()\n",
    "a['AB']=12\n",
    "a['aBBcv']=33\n",
    "a['A']=5\n",
    "a['a']=9\n",
    "a[1]=12"
   ]
  },
  {
   "cell_type": "code",
   "execution_count": 179,
   "metadata": {},
   "outputs": [
    {
     "data": {
      "text/plain": [
       "{'ab': 12, 'abbcv': 33, 'a': 9, 1: 12}"
      ]
     },
     "execution_count": 179,
     "metadata": {},
     "output_type": "execute_result"
    }
   ],
   "source": [
    "a"
   ]
  },
  {
   "cell_type": "code",
   "execution_count": 180,
   "metadata": {},
   "outputs": [
    {
     "data": {
      "text/plain": [
       "{1, 'A', 'AB', 'a', 'aBBcv'}"
      ]
     },
     "execution_count": 180,
     "metadata": {},
     "output_type": "execute_result"
    }
   ],
   "source": [
    "a.keyset"
   ]
  },
  {
   "cell_type": "code",
   "execution_count": null,
   "metadata": {},
   "outputs": [],
   "source": []
  }
 ],
 "metadata": {
  "kernelspec": {
   "display_name": "Python 3",
   "language": "python",
   "name": "python3"
  },
  "language_info": {
   "codemirror_mode": {
    "name": "ipython",
    "version": 3
   },
   "file_extension": ".py",
   "mimetype": "text/x-python",
   "name": "python",
   "nbconvert_exporter": "python",
   "pygments_lexer": "ipython3",
   "version": "3.7.0"
  }
 },
 "nbformat": 4,
 "nbformat_minor": 2
}
